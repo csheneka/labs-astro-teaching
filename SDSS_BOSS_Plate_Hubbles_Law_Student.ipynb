{
  "nbformat": 4,
  "nbformat_minor": 0,
  "metadata": {
    "colab": {
      "name": "SDSS BOSS Plate Hubbles Law - Student.ipynb",
      "provenance": [],
      "collapsed_sections": []
    },
    "kernelspec": {
      "display_name": "Python 3",
      "language": "python",
      "name": "python3"
    },
    "language_info": {
      "codemirror_mode": {
        "name": "ipython",
        "version": 3
      },
      "file_extension": ".py",
      "mimetype": "text/x-python",
      "name": "python",
      "nbconvert_exporter": "python",
      "pygments_lexer": "ipython3",
      "version": "3.6.11"
    }
  },
  "cells": [
    {
      "cell_type": "markdown",
      "metadata": {
        "id": "gwVFURGPYQs9"
      },
      "source": [
        "# Hubble Diagram from Sloan Digital Sky Survey Data\n",
        "\n"
      ]
    },
    {
      "cell_type": "markdown",
      "metadata": {
        "id": "zMa7SOMVCb1L"
      },
      "source": [
        "##Question 0\n",
        "**Double click here to answer. Put your name(s) and class info here.**\n",
        "\n",
        "Answer: "
      ]
    },
    {
      "cell_type": "markdown",
      "metadata": {
        "id": "7PLrZhbcCaIl"
      },
      "source": [
        "<img src=\"https://www.sdss.org/wp-content/uploads/2014/11/SDSS_telescope_new.jpg\" width=500 />\n",
        "\n",
        "The Sloan Digital Sky Survey (SDSS) has been running at Apache Point Observatory since 2000. This large volume of publicly available data is a perfect place to explore scientific computing and data science while getting a hands on look at Hubble's law.\n",
        " \n",
        "This activity looks at data from the Baryon Oscillation Spectroscopy Survey (BOSS). The specific data here all comes from a spectroscopic plate observation of one chunk of the sky. \n",
        "\n",
        "<img src=\"https://www.sdss.org/wp-content/uploads/2019/11/apogeen-plugging.png\" width=500 />\n",
        "\n",
        "Learn more about the [SDSS Plates](http://voyages.sdss.org/preflight/sdss-plates/)\n",
        "\n",
        "If you are an educator with a plate that came from the BOSS survey, replace the plate 7045 in the code with the plate number written on your plate. You will need to look through the plate browser to get the modified Julian date or MJD. The MJD system is a way for astronomers to count days in a structured way (it's still strange though). The plate I used was **`7045`**, so according the [plate browser](https://skyserver.sdss.org/dr12/en/tools/getimg/plate.aspx?choosesurvey=boss&P=299489402097264640&S=1868993899549190144&B=7931964954050619392&A=apogee.apo25m.c.r5.4812.55725), the MJD for my plate is **`56577`**\n",
        "\n",
        "<img src=\"http://www.jimmynewland.com/wp/wp-content/uploads/2020/08/sdss_7045_plate.png\" width=500 />\n",
        "\n",
        "We are going to explore how Edwin Hubble determined the general relationship between the distance of a galaxy and that galaxy's redshift.\n",
        "\n",
        "Today you will be using Python running on Google CoLab to analyze data that you will access directly from the SDSS science archive database.\n",
        "\n",
        "The [orginal version](http://voyages.sdss.org/expeditions/expanding-universe/hubble-diagram/) of this activity uses spreadsheets instead of Python and is also a cool way to explore data from the SDSS plate collection."
      ]
    },
    {
      "cell_type": "markdown",
      "metadata": {
        "id": "NbAnupTw4-ph"
      },
      "source": [
        "## Setup our project\n",
        "\n",
        "Click on the following block of code to edit and to display the run button.\\\n",
        "***Don't forget to click the run button for each code block, even if you didn't write any code!***\\\n",
        "A handy keyboard shortcut to run and move to the next cell is shift-M."
      ]
    },
    {
      "cell_type": "code",
      "metadata": {
        "id": "4WmVTgi1UhTB",
        "outputId": "b485e820-c82f-484b-9097-3633bf5674fa",
        "colab": {
          "base_uri": "https://localhost:8080/"
        }
      },
      "source": [
        "# Import data science packages\n",
        "import seaborn as sns\n",
        "import pandas as pd\n",
        "from scipy import stats\n",
        "\n",
        "# Import NumPy to do mathy stuff\n",
        "import numpy as np\n",
        "\n",
        "# Set our project up to plot data\n",
        "import matplotlib.pyplot as plt\n",
        "%matplotlib inline\n",
        "print('Imported modules')"
      ],
      "execution_count": 1,
      "outputs": [
        {
          "output_type": "stream",
          "text": [
            "Imported modules\n"
          ],
          "name": "stdout"
        }
      ]
    },
    {
      "cell_type": "code",
      "metadata": {
        "id": "tcdjlM4g8Gsx",
        "outputId": "58984280-28ca-483f-f31d-b7ee791c6eea",
        "colab": {
          "base_uri": "https://localhost:8080/"
        }
      },
      "source": [
        "# Install an additional package we need to talk to the SDSS science database\n",
        "!pip install astroquery"
      ],
      "execution_count": 2,
      "outputs": [
        {
          "output_type": "stream",
          "text": [
            "Collecting astroquery\n",
            "\u001b[?25l  Downloading https://files.pythonhosted.org/packages/1b/f8/4690523783691ed816b3469c3ec611af3798594d37ade510dd918d59f57e/astroquery-0.4.1.tar.gz (6.5MB)\n",
            "\u001b[K     |████████████████████████████████| 6.5MB 5.8MB/s \n",
            "\u001b[?25hRequirement already satisfied: numpy in /usr/local/lib/python3.7/dist-packages (from astroquery) (1.19.5)\n",
            "Requirement already satisfied: astropy>=3.1 in /usr/local/lib/python3.7/dist-packages (from astroquery) (4.2.1)\n",
            "Requirement already satisfied: requests>=2.4.3 in /usr/local/lib/python3.7/dist-packages (from astroquery) (2.23.0)\n",
            "Collecting keyring>=4.0\n",
            "  Downloading https://files.pythonhosted.org/packages/26/f9/41230ac47f738f1ba66676dc8d3b30ca5b1f9eb0230fc204bcd9836c4ae9/keyring-23.0.1-py3-none-any.whl\n",
            "Requirement already satisfied: beautifulsoup4>=4.3.2 in /usr/local/lib/python3.7/dist-packages (from astroquery) (4.6.3)\n",
            "Requirement already satisfied: html5lib>=0.999 in /usr/local/lib/python3.7/dist-packages (from astroquery) (1.0.1)\n",
            "Requirement already satisfied: six in /usr/local/lib/python3.7/dist-packages (from astroquery) (1.15.0)\n",
            "Requirement already satisfied: pyerfa in /usr/local/lib/python3.7/dist-packages (from astropy>=3.1->astroquery) (1.7.2)\n",
            "Requirement already satisfied: chardet<4,>=3.0.2 in /usr/local/lib/python3.7/dist-packages (from requests>=2.4.3->astroquery) (3.0.4)\n",
            "Requirement already satisfied: idna<3,>=2.5 in /usr/local/lib/python3.7/dist-packages (from requests>=2.4.3->astroquery) (2.10)\n",
            "Requirement already satisfied: urllib3!=1.25.0,!=1.25.1,<1.26,>=1.21.1 in /usr/local/lib/python3.7/dist-packages (from requests>=2.4.3->astroquery) (1.24.3)\n",
            "Requirement already satisfied: certifi>=2017.4.17 in /usr/local/lib/python3.7/dist-packages (from requests>=2.4.3->astroquery) (2020.12.5)\n",
            "Collecting jeepney>=0.4.2; sys_platform == \"linux\"\n",
            "\u001b[?25l  Downloading https://files.pythonhosted.org/packages/51/b0/a6ea72741aaac3f37fb96d195e4ee576a103c4c04e279bc6b446a70960e1/jeepney-0.6.0-py3-none-any.whl (45kB)\n",
            "\u001b[K     |████████████████████████████████| 51kB 4.9MB/s \n",
            "\u001b[?25hCollecting SecretStorage>=3.2; sys_platform == \"linux\"\n",
            "  Downloading https://files.pythonhosted.org/packages/d9/1e/29cd69fdac7391aa51510dfd42aa70b4e6a826c8cd019ee2a8ab9ec0777f/SecretStorage-3.3.1-py3-none-any.whl\n",
            "Requirement already satisfied: importlib-metadata>=3.6 in /usr/local/lib/python3.7/dist-packages (from keyring>=4.0->astroquery) (3.10.0)\n",
            "Requirement already satisfied: webencodings in /usr/local/lib/python3.7/dist-packages (from html5lib>=0.999->astroquery) (0.5.1)\n",
            "Collecting cryptography>=2.0\n",
            "\u001b[?25l  Downloading https://files.pythonhosted.org/packages/b2/26/7af637e6a7e87258b963f1731c5982fb31cd507f0d90d91836e446955d02/cryptography-3.4.7-cp36-abi3-manylinux2014_x86_64.whl (3.2MB)\n",
            "\u001b[K     |████████████████████████████████| 3.2MB 42.4MB/s \n",
            "\u001b[?25hRequirement already satisfied: zipp>=0.5 in /usr/local/lib/python3.7/dist-packages (from importlib-metadata>=3.6->keyring>=4.0->astroquery) (3.4.1)\n",
            "Requirement already satisfied: typing-extensions>=3.6.4; python_version < \"3.8\" in /usr/local/lib/python3.7/dist-packages (from importlib-metadata>=3.6->keyring>=4.0->astroquery) (3.7.4.3)\n",
            "Requirement already satisfied: cffi>=1.12 in /usr/local/lib/python3.7/dist-packages (from cryptography>=2.0->SecretStorage>=3.2; sys_platform == \"linux\"->keyring>=4.0->astroquery) (1.14.5)\n",
            "Requirement already satisfied: pycparser in /usr/local/lib/python3.7/dist-packages (from cffi>=1.12->cryptography>=2.0->SecretStorage>=3.2; sys_platform == \"linux\"->keyring>=4.0->astroquery) (2.20)\n",
            "Building wheels for collected packages: astroquery\n",
            "  Building wheel for astroquery (setup.py) ... \u001b[?25l\u001b[?25hdone\n",
            "  Created wheel for astroquery: filename=astroquery-0.4.1-cp37-none-any.whl size=3831874 sha256=0c53fb88abfb45269f73ea056424dfca17c327cbc78cc9e5078af3e5d55f496d\n",
            "  Stored in directory: /root/.cache/pip/wheels/88/f8/b7/a254cd96e808f708bc0b7d755a8e095c56fbbe94099d7b464f\n",
            "Successfully built astroquery\n",
            "Installing collected packages: jeepney, cryptography, SecretStorage, keyring, astroquery\n",
            "Successfully installed SecretStorage-3.3.1 astroquery-0.4.1 cryptography-3.4.7 jeepney-0.6.0 keyring-23.0.1\n"
          ],
          "name": "stdout"
        }
      ]
    },
    {
      "cell_type": "code",
      "metadata": {
        "id": "YaVAhpX2UhTP",
        "outputId": "9d748d2d-89a1-4bc4-d860-5c2dd181b284",
        "colab": {
          "base_uri": "https://localhost:8080/"
        }
      },
      "source": [
        "# Import some astronomy specific packages\n",
        "from astropy.table import Table\n",
        "from astroquery.sdss import SDSS\n",
        "print('Imported modules')"
      ],
      "execution_count": 3,
      "outputs": [
        {
          "output_type": "stream",
          "text": [
            "Imported modules\n"
          ],
          "name": "stdout"
        }
      ]
    },
    {
      "cell_type": "markdown",
      "metadata": {
        "id": "i7pQRhsQ5Fk0"
      },
      "source": [
        "## Supply the plate information"
      ]
    },
    {
      "cell_type": "code",
      "metadata": {
        "id": "FDigHAyZUhTZ",
        "outputId": "1a6d652a-2f0d-481d-e845-18f5d08ad1c9",
        "colab": {
          "base_uri": "https://localhost:8080/"
        }
      },
      "source": [
        "# Plate browser: https://skyserver.sdss.org/dr12/en/tools/getimg/plate.aspx\n",
        "# Put your particular plate and MJD here\n",
        "plate = 7045\n",
        "mjd = 56577\n",
        "print('plate =', plate, \"\\nMJD =\", mjd)"
      ],
      "execution_count": 4,
      "outputs": [
        {
          "output_type": "stream",
          "text": [
            "plate = 7045 \n",
            "MJD = 56577\n"
          ],
          "name": "stdout"
        }
      ]
    },
    {
      "cell_type": "markdown",
      "metadata": {
        "id": "bZPHvMh-a5HY"
      },
      "source": [
        "This activity was designed around plates from the [Baryon Oscillation Spectroscopic Survey](https://www.sdss.org/surveys/boss/) or BOSS. Mainly the science targets are galaxies and quasars although the data contains stars which are used as references for the spectroscopy.\n",
        "\n",
        "We are going to analyze just a small part of the data for all the galaxies on this plate. The BOSS science is not our goal today. Instead, let's explore how this data supports the original idea from Edwin Hubble of universal expansion!"
      ]
    },
    {
      "cell_type": "markdown",
      "metadata": {
        "id": "GqV-EhF05LuD"
      },
      "source": [
        "## Query the database\n",
        "\n",
        "What we are after for our analysis is a list of all the galaxies (not stars and not quasars) including redshift and their brightness (or apparent magnitude).\n",
        "\n",
        "Here is what we are grabbing from the database\n",
        "* Object ID\n",
        "* Right Ascension and Declination\n",
        "* Apparent Magnitude\n",
        "* Redshift"
      ]
    },
    {
      "cell_type": "markdown",
      "metadata": {
        "id": "Dbs2Vvi_7qjv"
      },
      "source": [
        "### Accessing the data"
      ]
    },
    {
      "cell_type": "markdown",
      "metadata": {
        "id": "WhqpWyI--uDd"
      },
      "source": [
        "Here is the Structured Query Language (SQL) query if you want to experiment:\n",
        "<pre> SELECT TOP 1000 objid, ra, dec, modelMag_i AS app_mag , z\n",
        "   from SpecPhoto WHERE (class = 'GALAXY' AND plate = '7045')</pre>\n",
        "\n",
        "This is a database query to retrieve *at most* 1000 objects from this plate. Most plates don't have this many objects but it is a way to limit the results just in case.\n",
        "\n",
        "The SpecPhoto table from the SDSS database combines together the photometric data (brightness and stuff) and the spectroscopic data ([individual spectra](https://www.sdss.org/dr12/spectro/)). \n",
        "\n",
        "<img src=\"https://www.sdss.org/wp-content/uploads/2014/11/faceplat2.jpg\" width=200 />\n",
        "\n",
        "The brightness data we are using is the [model magnitude](https://www.sdss.org/dr12/algorithms/magnitudes/#mag_model) for the galaxy and is just from one filter, the `i` filter from the [`ugriz`](https://www.sdss.org/instruments/camera/#Filters) filter set. \n",
        "\n",
        "<img src=\"https://skyserver.sdss.org/dr12/en/get/SpecById.ashx?id=7931990242818191360\" width=300 />\n",
        "\n",
        "Note that we rename the model magnitude to `app_mag` to be our apparent magnitude value. The redshift, `z` is the other datapoint we need. Lastly, we limit the class of objects to return. In this case we want only galaxies."
      ]
    },
    {
      "cell_type": "code",
      "metadata": {
        "id": "m3s60mkFuTOR"
      },
      "source": [
        "# Build the query first\n",
        "query = \"SELECT TOP 1000 objid, ra, dec, modelMag_i AS app_mag , z from SpecPhoto WHERE (class = 'GALAXY' AND plate = '7045')\"\n",
        "\n",
        "# Run the query and store the results\n",
        "result = SDSS.query_sql(query, data_release=16)"
      ],
      "execution_count": 5,
      "outputs": []
    },
    {
      "cell_type": "markdown",
      "metadata": {
        "id": "cI_AGeJ--w3H"
      },
      "source": [
        "## AstroPy and pandas"
      ]
    },
    {
      "cell_type": "markdown",
      "metadata": {
        "id": "8lQ2NQI--7Z0"
      },
      "source": [
        "Let's convert this large chunk of data to something data scientists call a dataframe. We are using the `pandas` data science tool. The `data.head()` line displays the first few rows of the dataframe. It looks a lot like a spreadsheet."
      ]
    },
    {
      "cell_type": "code",
      "metadata": {
        "id": "sGd03JI5uTOb",
        "outputId": "44f8e69a-5539-43db-a5b1-33ea40745ea5",
        "colab": {
          "base_uri": "https://localhost:8080/",
          "height": 206
        }
      },
      "source": [
        "# Convert our AstroPy data into pandas\n",
        "data = result.to_pandas()\n",
        "\n",
        "# Take a look at the first 5 rows\n",
        "data.head()"
      ],
      "execution_count": 6,
      "outputs": [
        {
          "output_type": "execute_result",
          "data": {
            "text/html": [
              "<div>\n",
              "<style scoped>\n",
              "    .dataframe tbody tr th:only-of-type {\n",
              "        vertical-align: middle;\n",
              "    }\n",
              "\n",
              "    .dataframe tbody tr th {\n",
              "        vertical-align: top;\n",
              "    }\n",
              "\n",
              "    .dataframe thead th {\n",
              "        text-align: right;\n",
              "    }\n",
              "</style>\n",
              "<table border=\"1\" class=\"dataframe\">\n",
              "  <thead>\n",
              "    <tr style=\"text-align: right;\">\n",
              "      <th></th>\n",
              "      <th>objid</th>\n",
              "      <th>ra</th>\n",
              "      <th>dec</th>\n",
              "      <th>app_mag</th>\n",
              "      <th>z</th>\n",
              "    </tr>\n",
              "  </thead>\n",
              "  <tbody>\n",
              "    <tr>\n",
              "      <th>0</th>\n",
              "      <td>1237679255738253516</td>\n",
              "      <td>18.526920</td>\n",
              "      <td>-3.787903</td>\n",
              "      <td>17.94953</td>\n",
              "      <td>0.260926</td>\n",
              "    </tr>\n",
              "    <tr>\n",
              "      <th>1</th>\n",
              "      <td>1237679255201448464</td>\n",
              "      <td>18.648512</td>\n",
              "      <td>-4.169276</td>\n",
              "      <td>19.34472</td>\n",
              "      <td>0.513648</td>\n",
              "    </tr>\n",
              "    <tr>\n",
              "      <th>2</th>\n",
              "      <td>1237679323927937131</td>\n",
              "      <td>18.643508</td>\n",
              "      <td>-4.381180</td>\n",
              "      <td>15.88958</td>\n",
              "      <td>0.131451</td>\n",
              "    </tr>\n",
              "    <tr>\n",
              "      <th>3</th>\n",
              "      <td>1237679255201448595</td>\n",
              "      <td>18.695452</td>\n",
              "      <td>-4.226731</td>\n",
              "      <td>19.76593</td>\n",
              "      <td>0.517084</td>\n",
              "    </tr>\n",
              "    <tr>\n",
              "      <th>4</th>\n",
              "      <td>1237679255201448109</td>\n",
              "      <td>18.643387</td>\n",
              "      <td>-4.140589</td>\n",
              "      <td>18.70874</td>\n",
              "      <td>0.394413</td>\n",
              "    </tr>\n",
              "  </tbody>\n",
              "</table>\n",
              "</div>"
            ],
            "text/plain": [
              "                 objid         ra       dec   app_mag         z\n",
              "0  1237679255738253516  18.526920 -3.787903  17.94953  0.260926\n",
              "1  1237679255201448464  18.648512 -4.169276  19.34472  0.513648\n",
              "2  1237679323927937131  18.643508 -4.381180  15.88958  0.131451\n",
              "3  1237679255201448595  18.695452 -4.226731  19.76593  0.517084\n",
              "4  1237679255201448109  18.643387 -4.140589  18.70874  0.394413"
            ]
          },
          "metadata": {
            "tags": []
          },
          "execution_count": 6
        }
      ]
    },
    {
      "cell_type": "markdown",
      "metadata": {
        "id": "TgmgzX0f_daM"
      },
      "source": [
        "## Plotting the data: app_mag vs z"
      ]
    },
    {
      "cell_type": "markdown",
      "metadata": {
        "id": "7XdgNJOAHZok"
      },
      "source": [
        "##Question 1\n",
        "**Double click here to answer. How does the apparent magnitude of a galaxy act as a way measure distances to galaxies? Must we make any assumptions for the relationship to make sense? (Hint: [what is the inverse square law?](https://openstax.org/books/astronomy/pages/5-1-the-behavior-of-light#OSC_Astro_05_01_Invlight))**\n",
        "\n",
        "Answer:"
      ]
    },
    {
      "cell_type": "markdown",
      "metadata": {
        "id": "eoLSQCsBHgaW"
      },
      "source": [
        "## Question 2\n",
        "**Double click here to answer. Which of our data variables, app_mag or z, makes the most sense as the independent variable? One variable came from a camera (the magnitude). The other came from measuring the shift in the spectrum.**\n",
        "\n",
        "Answer:"
      ]
    },
    {
      "cell_type": "markdown",
      "metadata": {
        "id": "5OJauMBmCI2L"
      },
      "source": [
        "### Independent vs dependent\n",
        "First lets just plot the data and see what we get. Typically we plot the dependent variable along the y-axis and the independent variable along the x-axis. "
      ]
    },
    {
      "cell_type": "code",
      "metadata": {
        "id": "0MtIldS2_6hV",
        "outputId": "cba6283d-ccd9-4a8f-8ad1-9a436197d8b3",
        "colab": {
          "base_uri": "https://localhost:8080/",
          "height": 282
        }
      },
      "source": [
        "# Perform a scatter plot\n",
        "\n",
        "# What should we put along the x and y axes?\n",
        "# Choose the data axes like this (except use real column names): \n",
        "# x = data['ColForX'] and y = data['ColForY']\n",
        "x = data['app_mag']\n",
        "y = data['z']\n",
        "\n",
        "# The plt object plots our data. \n",
        "# Here we want a scatter plot.\n",
        "# Whatever list you put 1st is x, and the 2nd is y.\n",
        "plt.scatter(x,y)\n",
        "\n",
        "# Change these to something useful\n",
        "plt.xlabel('Apparent mag')\n",
        "plt.ylabel('Redshift')\n",
        "\n",
        "# Display our plot.\n",
        "plt.show()"
      ],
      "execution_count": 7,
      "outputs": [
        {
          "output_type": "display_data",
          "data": {
            "image/png": "[encoded data removed]",
            "text/plain": [
              "<Figure size 432x288 with 1 Axes>"
            ]
          },
          "metadata": {
            "tags": [],
            "needs_background": "light"
          }
        }
      ]
    },
    {
      "cell_type": "markdown",
      "metadata": {
        "id": "Q85fWfq7COfE"
      },
      "source": [
        "##Question 3\n",
        "**Double click here to answer. What do you notice and what do you wonder about our plot? Is there a linear relationship between x and y? Is there more than one group here? Can you identify any outliers?**\n",
        "\n",
        "Answer:\n"
      ]
    },
    {
      "cell_type": "markdown",
      "metadata": {
        "id": "1yavZc-mGMk5"
      },
      "source": [
        "### Redshift as speed"
      ]
    },
    {
      "cell_type": "markdown",
      "metadata": {
        "id": "o98dK6RoQYhr"
      },
      "source": [
        "Edwin Hubble showed the earlier ideas about the universe expanding were true. He discovered that the amount of redshift of a galaxy seemed to depend on the distance that galaxy is from us. We are going to explore this exact relationship with our data.\n",
        "\n",
        "<img src=\"https://openstax.org/resources/7f27f064e23d86aa9968b4ef8642cbe37194697e\" width=75% />\n",
        "\n",
        "[Check out more about Hubble and Humason](https://openstax.org/books/astronomy/pages/26-5-the-expanding-universe#OSC_Astro_26_05_HLaw)"
      ]
    },
    {
      "cell_type": "markdown",
      "metadata": {
        "id": "h9HV5CUoHXYk"
      },
      "source": [
        "##Question 4\n",
        "**Double click here to answer. In your own words, what does redshift mean for a galaxy? How is the measured redshift related to 'speed'? (Hint: [what is Hubble's law?](https://openstax.org/books/astronomy/pages/26-5-the-expanding-universe#OSC_Astro_26_05_HLaw))**\n",
        "\n",
        "Answer:"
      ]
    },
    {
      "cell_type": "markdown",
      "metadata": {
        "id": "GDH7ESMJ_rW3"
      },
      "source": [
        "## Linear Regression: app_mag vs z"
      ]
    },
    {
      "cell_type": "markdown",
      "metadata": {
        "id": "UBmwv0o7_wSg"
      },
      "source": [
        "Next let's plot the data but let's use a linear regression tool to see if the 2 variables have a linear relationship. Use the same columns for x and y you used before. A linear regression is a way to test how closely one variable varies with respect to another."
      ]
    },
    {
      "cell_type": "code",
      "metadata": {
        "id": "-dx-ZYiiuTOh",
        "outputId": "21932a13-f165-4a65-d5aa-b0623024d35b",
        "colab": {
          "base_uri": "https://localhost:8080/",
          "height": 337
        }
      },
      "source": [
        "# What should we put along the x and y axes?\n",
        "x = data['app_mag']\n",
        "y = data['z']\n",
        "\n",
        "# Run the linear regression on our data and plot it.\n",
        "sns.regplot(x,y)\n",
        "\n",
        "# Note that the regplot function chooses the axes names for you\n",
        "\n",
        "plt.show()"
      ],
      "execution_count": 8,
      "outputs": [
        {
          "output_type": "stream",
          "text": [
            "/usr/local/lib/python3.7/dist-packages/seaborn/_decorators.py:43: FutureWarning: Pass the following variables as keyword args: x, y. From version 0.12, the only valid positional argument will be `data`, and passing other arguments without an explicit keyword will result in an error or misinterpretation.\n",
            "  FutureWarning\n"
          ],
          "name": "stderr"
        },
        {
          "output_type": "display_data",
          "data": {
            "image/png": "[encoded data removed]",
            "text/plain": [
              "<Figure size 432x288 with 1 Axes>"
            ]
          },
          "metadata": {
            "tags": [],
            "needs_background": "light"
          }
        }
      ]
    },
    {
      "cell_type": "markdown",
      "metadata": {
        "id": "dkphEHcpEcEQ"
      },
      "source": [
        "##Question 5\n",
        "**Double click here to answer. What do you notice and what do you wonder about our NEW plot? Is there a linear relationship between x and y? Is there more than one population here? Can you identify any outliers? What is the significance of the lighter colored area around the line?**\n",
        "\n",
        "Answer:\n"
      ]
    },
    {
      "cell_type": "markdown",
      "metadata": {
        "id": "vAWWHf8CE0CW"
      },
      "source": [
        "## Magnitude, Luminosity, and Flux"
      ]
    },
    {
      "cell_type": "markdown",
      "metadata": {
        "id": "jNHKiQLXJGR7"
      },
      "source": [
        "The data we have is the [apparent magnitude](https://openstax.org/books/astronomy/pages/17-1-the-brightness-of-stars) for our galaxies. We need to convert our apparent magnitude into a flux value. The relationship between [magnitude and flux is exponential](https://openstax.org/books/astronomy/pages/17-1-the-brightness-of-stars#OSC_Astro_17_01_Apparent). Hipparchus in 150 BCE didn't know about that relationship when he created the magnitude scale. Since we still use the old magnitude scale but now we know how the system works, we can convert from magnitude to flux using:\n",
        "\n",
        "$$F = 2.5^{-m}$$\n",
        "\n",
        "Where `m` is our apparent magnitude data, and `F` is the flux. And we know from the inverse square law that flux (or luminosity) is proportional the inverse square of distance.\n",
        "\n",
        "$$F \\propto {1 \\over d^2}$$\n",
        "\n",
        "So if solve for d we get:\n",
        "\n",
        "$$d\\propto {1 \\over \\sqrt{F}} $$"
      ]
    },
    {
      "cell_type": "markdown",
      "metadata": {
        "id": "s7Lz0w7Bzs0v"
      },
      "source": [
        "##Convert apparent magnitude to flux\n",
        "**Python HOWTO - exponents:** the equation $y=x^{-2}$  would be `y = x**-2` in Python."
      ]
    },
    {
      "cell_type": "code",
      "metadata": {
        "id": "9UfEwym6uTOq"
      },
      "source": [
        "# Set m equal to the apparent magnitude.\n",
        "m = 0\n",
        "\n",
        "# Raise 2.5 to the -m power\n",
        "flux = 0 "
      ],
      "execution_count": 9,
      "outputs": []
    },
    {
      "cell_type": "markdown",
      "metadata": {
        "id": "iPszDWmgE_wm"
      },
      "source": [
        "**Python HOWTO - square roots:** the equation $y=\\sqrt{x}$ would be `y = np.sqrt(x)`"
      ]
    },
    {
      "cell_type": "code",
      "metadata": {
        "id": "kENnjqgGuTO4"
      },
      "source": [
        "# Use the inverse square relationship to get relative distance.\n",
        "\n",
        "# np.sqrt finds the square root of number\n",
        "rel_dist = 0"
      ],
      "execution_count": 10,
      "outputs": []
    },
    {
      "cell_type": "markdown",
      "metadata": {
        "id": "qkFtwpppFNql"
      },
      "source": [
        "**Python HOWTO - find the max:** to find the max value in a list of items, do this: `largest = my_list.max()`"
      ]
    },
    {
      "cell_type": "code",
      "metadata": {
        "id": "A8tmRysvuTO_"
      },
      "source": [
        "# Let's 'normalize' our relative distances. \n",
        "# Based on our farthest galaxy, what's the relative dist. to the others?\n",
        "farthest = 0\n",
        "\n",
        "# Divide our list of relative distances by our farthest distance\n",
        "rel_dist = 0"
      ],
      "execution_count": 11,
      "outputs": []
    },
    {
      "cell_type": "code",
      "metadata": {
        "id": "RR53nYkEuTPU"
      },
      "source": [
        "# Add in the relative distance to our data cube.\n",
        "data = data.assign(rel_dist=rel_dist)"
      ],
      "execution_count": 12,
      "outputs": []
    },
    {
      "cell_type": "markdown",
      "metadata": {
        "id": "mVL2f2CPFtAa"
      },
      "source": [
        "### Plot app_mag vs z and rel_dist vs z"
      ]
    },
    {
      "cell_type": "code",
      "metadata": {
        "id": "fPIJ9JekHxlx",
        "outputId": "0ecd36fc-762f-4784-af70-8b47d6749596",
        "colab": {
          "base_uri": "https://localhost:8080/",
          "height": 300
        }
      },
      "source": [
        "# Following the examples above, display a scatter plot rel_dist vs z\n",
        "\n",
        "x = 0\n",
        "y = 0\n",
        "\n",
        "# Plot here\n",
        "\n",
        "# Change these to something useful\n",
        "plt.xlabel('Change me')\n",
        "plt.ylabel('Me too')\n",
        "\n",
        "# Display our plot.\n",
        "# Show here"
      ],
      "execution_count": 13,
      "outputs": [
        {
          "output_type": "execute_result",
          "data": {
            "text/plain": [
              "Text(0, 0.5, 'Me too')"
            ]
          },
          "metadata": {
            "tags": []
          },
          "execution_count": 13
        },
        {
          "output_type": "display_data",
          "data": {
            "image/png": "[encoded data removed]",
            "text/plain": [
              "<Figure size 432x288 with 1 Axes>"
            ]
          },
          "metadata": {
            "tags": [],
            "needs_background": "light"
          }
        }
      ]
    },
    {
      "cell_type": "code",
      "metadata": {
        "id": "UKDq0giNyGra",
        "outputId": "7f51c366-0700-4269-a2be-88239fb4d203",
        "colab": {
          "base_uri": "https://localhost:8080/",
          "height": 434
        }
      },
      "source": [
        "# Following the examples above, plot a linear regression\n",
        "# of rel_dist and z\n",
        "x = 0\n",
        "y = 0\n",
        "\n",
        "sns.regplot(x,y)\n",
        "\n",
        "plt.show()"
      ],
      "execution_count": 14,
      "outputs": [
        {
          "output_type": "stream",
          "text": [
            "/usr/local/lib/python3.7/dist-packages/seaborn/_decorators.py:43: FutureWarning: Pass the following variables as keyword args: x, y. From version 0.12, the only valid positional argument will be `data`, and passing other arguments without an explicit keyword will result in an error or misinterpretation.\n",
            "  FutureWarning\n"
          ],
          "name": "stderr"
        },
        {
          "output_type": "error",
          "ename": "AttributeError",
          "evalue": "ignored",
          "traceback": [
            "\u001b[0;31m---------------------------------------------------------------------------\u001b[0m",
            "\u001b[0;31mAttributeError\u001b[0m                            Traceback (most recent call last)",
            "\u001b[0;32m<ipython-input-14-2c9f85a84548>\u001b[0m in \u001b[0;36m<module>\u001b[0;34m()\u001b[0m\n\u001b[1;32m      4\u001b[0m \u001b[0my\u001b[0m \u001b[0;34m=\u001b[0m \u001b[0;36m0\u001b[0m\u001b[0;34m\u001b[0m\u001b[0;34m\u001b[0m\u001b[0m\n\u001b[1;32m      5\u001b[0m \u001b[0;34m\u001b[0m\u001b[0m\n\u001b[0;32m----> 6\u001b[0;31m \u001b[0msns\u001b[0m\u001b[0;34m.\u001b[0m\u001b[0mregplot\u001b[0m\u001b[0;34m(\u001b[0m\u001b[0mx\u001b[0m\u001b[0;34m,\u001b[0m\u001b[0my\u001b[0m\u001b[0;34m)\u001b[0m\u001b[0;34m\u001b[0m\u001b[0;34m\u001b[0m\u001b[0m\n\u001b[0m\u001b[1;32m      7\u001b[0m \u001b[0;34m\u001b[0m\u001b[0m\n\u001b[1;32m      8\u001b[0m \u001b[0mplt\u001b[0m\u001b[0;34m.\u001b[0m\u001b[0mshow\u001b[0m\u001b[0;34m(\u001b[0m\u001b[0;34m)\u001b[0m\u001b[0;34m\u001b[0m\u001b[0;34m\u001b[0m\u001b[0m\n",
            "\u001b[0;32m/usr/local/lib/python3.7/dist-packages/seaborn/_decorators.py\u001b[0m in \u001b[0;36minner_f\u001b[0;34m(*args, **kwargs)\u001b[0m\n\u001b[1;32m     44\u001b[0m             )\n\u001b[1;32m     45\u001b[0m         \u001b[0mkwargs\u001b[0m\u001b[0;34m.\u001b[0m\u001b[0mupdate\u001b[0m\u001b[0;34m(\u001b[0m\u001b[0;34m{\u001b[0m\u001b[0mk\u001b[0m\u001b[0;34m:\u001b[0m \u001b[0marg\u001b[0m \u001b[0;32mfor\u001b[0m \u001b[0mk\u001b[0m\u001b[0;34m,\u001b[0m \u001b[0marg\u001b[0m \u001b[0;32min\u001b[0m \u001b[0mzip\u001b[0m\u001b[0;34m(\u001b[0m\u001b[0msig\u001b[0m\u001b[0;34m.\u001b[0m\u001b[0mparameters\u001b[0m\u001b[0;34m,\u001b[0m \u001b[0margs\u001b[0m\u001b[0;34m)\u001b[0m\u001b[0;34m}\u001b[0m\u001b[0;34m)\u001b[0m\u001b[0;34m\u001b[0m\u001b[0;34m\u001b[0m\u001b[0m\n\u001b[0;32m---> 46\u001b[0;31m         \u001b[0;32mreturn\u001b[0m \u001b[0mf\u001b[0m\u001b[0;34m(\u001b[0m\u001b[0;34m**\u001b[0m\u001b[0mkwargs\u001b[0m\u001b[0;34m)\u001b[0m\u001b[0;34m\u001b[0m\u001b[0;34m\u001b[0m\u001b[0m\n\u001b[0m\u001b[1;32m     47\u001b[0m     \u001b[0;32mreturn\u001b[0m \u001b[0minner_f\u001b[0m\u001b[0;34m\u001b[0m\u001b[0;34m\u001b[0m\u001b[0m\n\u001b[1;32m     48\u001b[0m \u001b[0;34m\u001b[0m\u001b[0m\n",
            "\u001b[0;32m/usr/local/lib/python3.7/dist-packages/seaborn/regression.py\u001b[0m in \u001b[0;36mregplot\u001b[0;34m(x, y, data, x_estimator, x_bins, x_ci, scatter, fit_reg, ci, n_boot, units, seed, order, logistic, lowess, robust, logx, x_partial, y_partial, truncate, dropna, x_jitter, y_jitter, label, color, marker, scatter_kws, line_kws, ax)\u001b[0m\n\u001b[1;32m    828\u001b[0m                                  \u001b[0morder\u001b[0m\u001b[0;34m,\u001b[0m \u001b[0mlogistic\u001b[0m\u001b[0;34m,\u001b[0m \u001b[0mlowess\u001b[0m\u001b[0;34m,\u001b[0m \u001b[0mrobust\u001b[0m\u001b[0;34m,\u001b[0m \u001b[0mlogx\u001b[0m\u001b[0;34m,\u001b[0m\u001b[0;34m\u001b[0m\u001b[0;34m\u001b[0m\u001b[0m\n\u001b[1;32m    829\u001b[0m                                  \u001b[0mx_partial\u001b[0m\u001b[0;34m,\u001b[0m \u001b[0my_partial\u001b[0m\u001b[0;34m,\u001b[0m \u001b[0mtruncate\u001b[0m\u001b[0;34m,\u001b[0m \u001b[0mdropna\u001b[0m\u001b[0;34m,\u001b[0m\u001b[0;34m\u001b[0m\u001b[0;34m\u001b[0m\u001b[0m\n\u001b[0;32m--> 830\u001b[0;31m                                  x_jitter, y_jitter, color, label)\n\u001b[0m\u001b[1;32m    831\u001b[0m \u001b[0;34m\u001b[0m\u001b[0m\n\u001b[1;32m    832\u001b[0m     \u001b[0;32mif\u001b[0m \u001b[0max\u001b[0m \u001b[0;32mis\u001b[0m \u001b[0;32mNone\u001b[0m\u001b[0;34m:\u001b[0m\u001b[0;34m\u001b[0m\u001b[0;34m\u001b[0m\u001b[0m\n",
            "\u001b[0;32m/usr/local/lib/python3.7/dist-packages/seaborn/regression.py\u001b[0m in \u001b[0;36m__init__\u001b[0;34m(self, x, y, data, x_estimator, x_bins, x_ci, scatter, fit_reg, ci, n_boot, units, seed, order, logistic, lowess, robust, logx, x_partial, y_partial, truncate, dropna, x_jitter, y_jitter, color, label)\u001b[0m\n\u001b[1;32m    108\u001b[0m         \u001b[0;31m# Extract the data vals from the arguments or passed dataframe\u001b[0m\u001b[0;34m\u001b[0m\u001b[0;34m\u001b[0m\u001b[0;34m\u001b[0m\u001b[0m\n\u001b[1;32m    109\u001b[0m         self.establish_variables(data, x=x, y=y, units=units,\n\u001b[0;32m--> 110\u001b[0;31m                                  x_partial=x_partial, y_partial=y_partial)\n\u001b[0m\u001b[1;32m    111\u001b[0m \u001b[0;34m\u001b[0m\u001b[0m\n\u001b[1;32m    112\u001b[0m         \u001b[0;31m# Drop null observations\u001b[0m\u001b[0;34m\u001b[0m\u001b[0;34m\u001b[0m\u001b[0;34m\u001b[0m\u001b[0m\n",
            "\u001b[0;32m/usr/local/lib/python3.7/dist-packages/seaborn/regression.py\u001b[0m in \u001b[0;36mestablish_variables\u001b[0;34m(self, data, **kws)\u001b[0m\n\u001b[1;32m     49\u001b[0m             \u001b[0;32melse\u001b[0m\u001b[0;34m:\u001b[0m\u001b[0;34m\u001b[0m\u001b[0;34m\u001b[0m\u001b[0m\n\u001b[1;32m     50\u001b[0m                 \u001b[0mvector\u001b[0m \u001b[0;34m=\u001b[0m \u001b[0mval\u001b[0m\u001b[0;34m\u001b[0m\u001b[0;34m\u001b[0m\u001b[0m\n\u001b[0;32m---> 51\u001b[0;31m             \u001b[0;32mif\u001b[0m \u001b[0mvector\u001b[0m \u001b[0;32mis\u001b[0m \u001b[0;32mnot\u001b[0m \u001b[0;32mNone\u001b[0m \u001b[0;32mand\u001b[0m \u001b[0mvector\u001b[0m\u001b[0;34m.\u001b[0m\u001b[0mshape\u001b[0m \u001b[0;34m!=\u001b[0m \u001b[0;34m(\u001b[0m\u001b[0;36m1\u001b[0m\u001b[0;34m,\u001b[0m\u001b[0;34m)\u001b[0m\u001b[0;34m:\u001b[0m\u001b[0;34m\u001b[0m\u001b[0;34m\u001b[0m\u001b[0m\n\u001b[0m\u001b[1;32m     52\u001b[0m                 \u001b[0mvector\u001b[0m \u001b[0;34m=\u001b[0m \u001b[0mnp\u001b[0m\u001b[0;34m.\u001b[0m\u001b[0msqueeze\u001b[0m\u001b[0;34m(\u001b[0m\u001b[0mvector\u001b[0m\u001b[0;34m)\u001b[0m\u001b[0;34m\u001b[0m\u001b[0;34m\u001b[0m\u001b[0m\n\u001b[1;32m     53\u001b[0m             \u001b[0;32mif\u001b[0m \u001b[0mnp\u001b[0m\u001b[0;34m.\u001b[0m\u001b[0mndim\u001b[0m\u001b[0;34m(\u001b[0m\u001b[0mvector\u001b[0m\u001b[0;34m)\u001b[0m \u001b[0;34m>\u001b[0m \u001b[0;36m1\u001b[0m\u001b[0;34m:\u001b[0m\u001b[0;34m\u001b[0m\u001b[0;34m\u001b[0m\u001b[0m\n",
            "\u001b[0;31mAttributeError\u001b[0m: 'int' object has no attribute 'shape'"
          ]
        }
      ]
    },
    {
      "cell_type": "markdown",
      "metadata": {
        "id": "blgCjykpPD5P"
      },
      "source": [
        "## Histogram of distances\n",
        "\n",
        "**Python HOWTO:** Make a histogram with MatPlotLib. 'plt.hist(values, bins)`"
      ]
    },
    {
      "cell_type": "code",
      "metadata": {
        "id": "1GNuCDSgM5tR"
      },
      "source": [
        "# Make the x variable our distribution of relative distances\n",
        "x = 0\n",
        "\n",
        "# Plot a histogram with equally spaced bins\n",
        "bins = 34     # try different numbers of bins\n",
        "plt.hist(x, bins)\n",
        "\n",
        "plt.show()"
      ],
      "execution_count": null,
      "outputs": []
    },
    {
      "cell_type": "markdown",
      "metadata": {
        "id": "vwR2GTiDPJr7"
      },
      "source": [
        "## Question 6\n",
        "**Double click here to answer. What does the histogram say about the variation in the relative distances? Are most galaxies close or far? What does the skew direction say about our population of galaxies?**\n",
        "\n",
        "Answer: "
      ]
    },
    {
      "cell_type": "markdown",
      "metadata": {
        "id": "alpZXOkpOGx3"
      },
      "source": [
        "## Eliminate outliers"
      ]
    },
    {
      "cell_type": "markdown",
      "metadata": {
        "id": "ntuhkigYOKZV"
      },
      "source": [
        "If we think that the data we have should follow a bell curve then data way off the curve can skew our results. There might be some reason for the relationship breaking down for some galaxies besides our claim being wrong."
      ]
    },
    {
      "cell_type": "code",
      "metadata": {
        "id": "HEZnVpYCdEsH"
      },
      "source": [
        "# Remove outliers and make a new dataframe\n",
        "newdata = data[(np.abs(stats.zscore(data)) < 3).all(axis=1)]\n",
        "\n",
        "# Technically we removed all data not following a Gaussian distribution beyond\n",
        "# 4 standard deviations from the mean of the data.\n",
        "\n",
        "# Plot the linear regression of the new dataframe\n",
        "x = 0\n",
        "y = 0\n",
        "sns.regplot(x,y)\n",
        "\n",
        "\n",
        "plt.show()"
      ],
      "execution_count": null,
      "outputs": []
    },
    {
      "cell_type": "markdown",
      "metadata": {
        "id": "fkbIsv92OeIq"
      },
      "source": [
        "##Question 7\n",
        "**Double click here to answer. Now that some of the outliers have been removed and we again plot the linear regression of our data, what do you notice and what do you wonder? Why might some of the galaxies that are outliers not follow the relationship of apparent brightness to distance or recession speed? Should we eliminate the outliers here or leave them in? Justify your answer.**\n",
        "\n",
        "Answer:\n"
      ]
    },
    {
      "cell_type": "code",
      "metadata": {
        "id": "fOCBHXTSOCMP"
      },
      "source": [
        "x = newdata['rel_dist']\n",
        "\n",
        "plt.hist(x,17)\n",
        "plt.show()"
      ],
      "execution_count": null,
      "outputs": []
    },
    {
      "cell_type": "markdown",
      "metadata": {
        "id": "lBPwp4otS6yd"
      },
      "source": [
        "## Question 8\n",
        "**Double click here to answer. How does the 2nd histogram support or not support our decision to remove the outliers? Does the distribution now follow the Gaussian bell curve? What does this distribution of galaxies say about our dataset with the outliers removed?**\n",
        "\n",
        "Answer: "
      ]
    },
    {
      "cell_type": "markdown",
      "metadata": {
        "id": "foX6qGAZMFoJ"
      },
      "source": [
        "# Sky Chart - Plot the galaxies in the sky\n",
        "\n",
        "Produce a scatter plot with the x-axis set to the right ascension values and the y-axis set to the declination values. This is where in the field of view of the telscope these galaxies were located."
      ]
    },
    {
      "cell_type": "code",
      "metadata": {
        "id": "3YKnl_klaCAE"
      },
      "source": [
        "x = 0\n",
        "y = 0\n",
        "\n",
        "plt.scatter(x,y)\n",
        "\n",
        "plt.xlabel('Good choice for name here')\n",
        "plt.ylabel('Same here')\n",
        "\n",
        "plt.show()"
      ],
      "execution_count": null,
      "outputs": []
    },
    {
      "cell_type": "markdown",
      "metadata": {
        "id": "XYrjL2X-aYxX"
      },
      "source": [
        "## Sky Chart with size and color\n",
        "Here we plot the galaxies with the color and size of the dot based on the relative distance we calculated. This is a clever bit of data visualization that helps bring a sort of 3rd dimension to our data."
      ]
    },
    {
      "cell_type": "markdown",
      "metadata": {
        "id": "d3wxDsKRIPoG"
      },
      "source": [
        "We want the closest galaxies to appear larger and darker as farther galaxies shrink and fade out. use `x.max()` and `x.min()` to check the largest and smallest values for `newdata['rel_dist']`"
      ]
    },
    {
      "cell_type": "code",
      "metadata": {
        "id": "0eRabH6RYks-"
      },
      "source": [
        "print(newdata['rel_dist'].max(), newdata['rel_dist'].min())"
      ],
      "execution_count": null,
      "outputs": []
    },
    {
      "cell_type": "markdown",
      "metadata": {
        "id": "UySuUTSGY9-u"
      },
      "source": [
        "Invert the \"sense\" of the data so the nearest galaxies have the largest index and the farthest have the smallest."
      ]
    },
    {
      "cell_type": "code",
      "metadata": {
        "id": "UvJAJxvaZFPi"
      },
      "source": [
        "inv_dist = 1-newdata['rel_dist']"
      ],
      "execution_count": null,
      "outputs": []
    },
    {
      "cell_type": "markdown",
      "metadata": {
        "id": "x3C7ha0aZIGt"
      },
      "source": [
        "Check the new largest and smallest values with `x.max()` and `x.min()`"
      ]
    },
    {
      "cell_type": "code",
      "metadata": {
        "id": "ZTnMEIpTZQ24"
      },
      "source": [
        "print(inv_dist.max(), inv_dist.min())"
      ],
      "execution_count": null,
      "outputs": []
    },
    {
      "cell_type": "markdown",
      "metadata": {
        "id": "fDKpf0BKZZdK"
      },
      "source": [
        "Now plot ra vs. dec and show relative distances with size and color (hue)."
      ]
    },
    {
      "cell_type": "code",
      "metadata": {
        "id": "fg3hApu7ZUe2"
      },
      "source": [
        "sns.relplot(x='ra', y='dec', hue=inv_dist, size=inv_dist, palette='Blues', \n",
        "            data=newdata, height=8, sizes=(45,100))\n",
        "\n",
        "plt.show()"
      ],
      "execution_count": null,
      "outputs": []
    },
    {
      "cell_type": "markdown",
      "metadata": {
        "id": "KNhVhr6riHd_"
      },
      "source": [
        "## Question 9\n",
        "**Double click here to answer. Using the new sky chart, can any pattern for the distribution of close and far galaxies be seen in the sky?**\n",
        "\n",
        "Answer: "
      ]
    }
  ]
}